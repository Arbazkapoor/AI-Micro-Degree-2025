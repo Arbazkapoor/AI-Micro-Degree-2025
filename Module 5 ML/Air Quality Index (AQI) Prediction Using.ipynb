{
 "cells": [
  {
   "cell_type": "markdown",
   "id": "7b2ff14e-e232-4ddf-922d-092173d74773",
   "metadata": {},
   "source": [
    "## Machine learning Project : Air Quality Index (AQI) Prediction Using\n",
    "# Machine Learning: \n",
    "# Implementing Decision Tree, SVM, and Linear Regression"
   ]
  },
  {
   "cell_type": "markdown",
   "id": "52052364-a547-4124-8978-a1ece2a32814",
   "metadata": {},
   "source": [
    "#### Step 1: Load and Explore the Data"
   ]
  },
  {
   "cell_type": "code",
   "execution_count": 2,
   "id": "2d707828-5843-4bf5-8efc-c7a5c4eae220",
   "metadata": {},
   "outputs": [
    {
     "name": "stdout",
     "output_type": "stream",
     "text": [
      "<class 'pandas.core.frame.DataFrame'>\n",
      "RangeIndex: 29531 entries, 0 to 29530\n",
      "Data columns (total 16 columns):\n",
      " #   Column      Non-Null Count  Dtype  \n",
      "---  ------      --------------  -----  \n",
      " 0   City        29531 non-null  object \n",
      " 1   Date        29531 non-null  object \n",
      " 2   PM2.5       24933 non-null  float64\n",
      " 3   PM10        18391 non-null  float64\n",
      " 4   NO          25949 non-null  float64\n",
      " 5   NO2         25946 non-null  float64\n",
      " 6   NOx         25346 non-null  float64\n",
      " 7   NH3         19203 non-null  float64\n",
      " 8   CO          27472 non-null  float64\n",
      " 9   SO2         25677 non-null  float64\n",
      " 10  O3          25509 non-null  float64\n",
      " 11  Benzene     23908 non-null  float64\n",
      " 12  Toluene     21490 non-null  float64\n",
      " 13  Xylene      11422 non-null  float64\n",
      " 14  AQI         24850 non-null  float64\n",
      " 15  AQI_Bucket  24850 non-null  object \n",
      "dtypes: float64(13), object(3)\n",
      "memory usage: 3.6+ MB\n",
      "None\n",
      "        City        Date  PM2.5  PM10     NO    NO2    NOx  NH3     CO    SO2  \\\n",
      "0  Ahmedabad  2015-01-01    NaN   NaN   0.92  18.22  17.15  NaN   0.92  27.64   \n",
      "1  Ahmedabad  2015-01-02    NaN   NaN   0.97  15.69  16.46  NaN   0.97  24.55   \n",
      "2  Ahmedabad  2015-01-03    NaN   NaN  17.40  19.30  29.70  NaN  17.40  29.07   \n",
      "3  Ahmedabad  2015-01-04    NaN   NaN   1.70  18.48  17.97  NaN   1.70  18.59   \n",
      "4  Ahmedabad  2015-01-05    NaN   NaN  22.10  21.42  37.76  NaN  22.10  39.33   \n",
      "\n",
      "       O3  Benzene  Toluene  Xylene  AQI AQI_Bucket  \n",
      "0  133.36     0.00     0.02    0.00  NaN        NaN  \n",
      "1   34.06     3.68     5.50    3.77  NaN        NaN  \n",
      "2   30.70     6.80    16.40    2.25  NaN        NaN  \n",
      "3   36.08     4.43    10.14    1.00  NaN        NaN  \n",
      "4   39.31     7.01    18.89    2.78  NaN        NaN  \n",
      "City              0\n",
      "Date              0\n",
      "PM2.5          4598\n",
      "PM10          11140\n",
      "NO             3582\n",
      "NO2            3585\n",
      "NOx            4185\n",
      "NH3           10328\n",
      "CO             2059\n",
      "SO2            3854\n",
      "O3             4022\n",
      "Benzene        5623\n",
      "Toluene        8041\n",
      "Xylene        18109\n",
      "AQI            4681\n",
      "AQI_Bucket     4681\n",
      "dtype: int64\n"
     ]
    },
    {
     "data": {
      "image/png": "[encoded data removed]",
      "text/plain": [
       "<Figure size 640x480 with 1 Axes>"
      ]
     },
     "metadata": {},
     "output_type": "display_data"
    }
   ],
   "source": [
    "import pandas as pd\n",
    "import numpy as np\n",
    "import seaborn as sns\n",
    "import matplotlib.pyplot as plt\n",
    "\n",
    "# Load dataset\n",
    "file_path = \"city_day.csv\"  \n",
    "df = pd.read_csv(file_path)\n",
    "\n",
    "# Display basic info\n",
    "print(df.info())\n",
    "\n",
    "# Show first few rows\n",
    "print(df.head())\n",
    "\n",
    "# Check for missing values\n",
    "print(df.isnull().sum())\n",
    "\n",
    "# Visualize AQI distribution\n",
    "sns.histplot(df['AQI'].dropna(), bins=30, kde=True)\n",
    "plt.title(\"AQI Distribution\")\n",
    "plt.show()\n"
   ]
  },
  {
   "cell_type": "markdown",
   "id": "87e4665a-8e4e-413e-82e5-054967275079",
   "metadata": {},
   "source": [
    "#### Step 2: Data Preprocessing"
   ]
  },
  {
   "cell_type": "code",
   "execution_count": 3,
   "id": "be328393-77dd-4174-a2f0-2cb4c47bb776",
   "metadata": {},
   "outputs": [],
   "source": [
    "from sklearn.model_selection import train_test_split\n",
    "from sklearn.preprocessing import StandardScaler\n",
    "from sklearn.impute import SimpleImputer\n",
    "\n",
    "# Select relevant columns (pollutants & AQI)\n",
    "features = ['PM2.5', 'PM10', 'NO', 'NO2', 'NOx', 'NH3', 'CO', 'SO2', 'O3', 'Benzene', 'Toluene', 'Xylene']\n",
    "target = 'AQI'\n",
    "\n",
    "# Drop rows where AQI is missing\n",
    "df = df.dropna(subset=[target])\n",
    "\n",
    "# Handle missing values in features using mean imputation\n",
    "imputer = SimpleImputer(strategy=\"mean\")\n",
    "df[features] = imputer.fit_transform(df[features])\n",
    "\n",
    "# Split data into train and test sets\n",
    "X = df[features]\n",
    "y = df[target]\n",
    "X_train, X_test, y_train, y_test = train_test_split(X, y, test_size=0.2, random_state=42)\n",
    "\n",
    "# Normalize features\n",
    "scaler = StandardScaler()\n",
    "X_train = scaler.fit_transform(X_train)\n",
    "X_test = scaler.transform(X_test)\n"
   ]
  },
  {
   "cell_type": "markdown",
   "id": "3b6f358e-c565-4fc5-ae59-40ccecb6880f",
   "metadata": {},
   "source": [
    "#### Step 3: Train Models\n",
    "##### Decision Tree"
   ]
  },
  {
   "cell_type": "code",
   "execution_count": 4,
   "id": "d873df41-ee4b-4557-a08e-e6df2c81c190",
   "metadata": {},
   "outputs": [],
   "source": [
    "from sklearn.tree import DecisionTreeRegressor\n",
    "\n",
    "# Train Decision Tree model\n",
    "dt_model = DecisionTreeRegressor(random_state=42)\n",
    "dt_model.fit(X_train, y_train)\n",
    "\n",
    "# Predict AQI\n",
    "y_pred_dt = dt_model.predict(X_test)\n"
   ]
  },
  {
   "cell_type": "markdown",
   "id": "fc31b4e0-cb99-4dd1-be5e-c68e766c0c8b",
   "metadata": {},
   "source": [
    "##### Support Vector Machine (SVM)"
   ]
  },
  {
   "cell_type": "code",
   "execution_count": 5,
   "id": "7ac48ecd-4634-43f3-b371-7385d6afc773",
   "metadata": {},
   "outputs": [],
   "source": [
    "from sklearn.svm import SVR\n",
    "\n",
    "# Train SVM model\n",
    "svm_model = SVR(kernel='rbf')\n",
    "svm_model.fit(X_train, y_train)\n",
    "\n",
    "# Predict AQI\n",
    "y_pred_svm = svm_model.predict(X_test)\n"
   ]
  },
  {
   "cell_type": "markdown",
   "id": "209073b9-94af-43c7-9161-ec402c395da8",
   "metadata": {},
   "source": [
    "##### Linear Regression"
   ]
  },
  {
   "cell_type": "code",
   "execution_count": 6,
   "id": "e80125a4-01c7-4420-aebf-c3c5a6e94652",
   "metadata": {},
   "outputs": [],
   "source": [
    "from sklearn.linear_model import LinearRegression\n",
    "\n",
    "# Train Linear Regression model\n",
    "lr_model = LinearRegression()\n",
    "lr_model.fit(X_train, y_train)\n",
    "\n",
    "# Predict AQI\n",
    "y_pred_lr = lr_model.predict(X_test)\n"
   ]
  },
  {
   "cell_type": "markdown",
   "id": "983be17a-e04d-4707-b089-b3d324d32513",
   "metadata": {},
   "source": [
    "#### Step 4: Evaluate Model Performance"
   ]
  },
  {
   "cell_type": "code",
   "execution_count": 7,
   "id": "d190017e-f5dc-4570-bb1a-58c1cdee3b02",
   "metadata": {},
   "outputs": [
    {
     "name": "stdout",
     "output_type": "stream",
     "text": [
      "Model: Decision Tree\n",
      "Mean Absolute Error (MAE): 29.23\n",
      "Root Mean Squared Error (RMSE): 60.77\n",
      "R-squared (R²): 0.80\n",
      "--------------------------------------------------\n",
      "Model: SVM\n",
      "Mean Absolute Error (MAE): 34.29\n",
      "Root Mean Squared Error (RMSE): 79.45\n",
      "R-squared (R²): 0.66\n",
      "--------------------------------------------------\n",
      "Model: Linear Regression\n",
      "Mean Absolute Error (MAE): 31.20\n",
      "Root Mean Squared Error (RMSE): 59.11\n",
      "R-squared (R²): 0.81\n",
      "--------------------------------------------------\n"
     ]
    }
   ],
   "source": [
    "from sklearn.metrics import mean_absolute_error, mean_squared_error, r2_score\n",
    "\n",
    "# Function to evaluate models\n",
    "def evaluate_model(y_test, y_pred, model_name):\n",
    "    print(f\"Model: {model_name}\")\n",
    "    print(f\"Mean Absolute Error (MAE): {mean_absolute_error(y_test, y_pred):.2f}\")\n",
    "    print(f\"Root Mean Squared Error (RMSE): {np.sqrt(mean_squared_error(y_test, y_pred)):.2f}\")\n",
    "    print(f\"R-squared (R²): {r2_score(y_test, y_pred):.2f}\")\n",
    "    print(\"-\" * 50)\n",
    "\n",
    "# Evaluate each model\n",
    "evaluate_model(y_test, y_pred_dt, \"Decision Tree\")\n",
    "evaluate_model(y_test, y_pred_svm, \"SVM\")\n",
    "evaluate_model(y_test, y_pred_lr, \"Linear Regression\")\n"
   ]
  },
  {
   "cell_type": "markdown",
   "id": "234ffb59-e45b-4a46-8d39-7b605c161fa3",
   "metadata": {},
   "source": [
    "#### Step 5: Compare the Models"
   ]
  },
  {
   "cell_type": "code",
   "execution_count": 8,
   "id": "be6997ac-30c1-4dad-887d-bd0b174726b8",
   "metadata": {},
   "outputs": [
    {
     "name": "stdout",
     "output_type": "stream",
     "text": [
      "               Model        MAE       RMSE  R-squared (R²)  \\\n",
      "0      Decision Tree  29.232144  60.766758        0.798340   \n",
      "1                SVM  34.290083  79.454236        0.655236   \n",
      "2  Linear Regression  31.203327  59.108362        0.809197   \n",
      "\n",
      "   Explained Variance Score (EVS)  \n",
      "0                        0.798417  \n",
      "1                        0.659620  \n",
      "2                        0.809342  \n"
     ]
    }
   ],
   "source": [
    "from sklearn.metrics import explained_variance_score\n",
    "\n",
    "# Collect results in a dictionary\n",
    "results = {\n",
    "    \"Model\": [\"Decision Tree\", \"SVM\", \"Linear Regression\"],\n",
    "    \"MAE\": [\n",
    "        mean_absolute_error(y_test, y_pred_dt), \n",
    "        mean_absolute_error(y_test, y_pred_svm), \n",
    "        mean_absolute_error(y_test, y_pred_lr)\n",
    "    ],\n",
    "    \"RMSE\": [\n",
    "        np.sqrt(mean_squared_error(y_test, y_pred_dt)), \n",
    "        np.sqrt(mean_squared_error(y_test, y_pred_svm)), \n",
    "        np.sqrt(mean_squared_error(y_test, y_pred_lr))\n",
    "    ],\n",
    "    \"R-squared (R²)\": [\n",
    "        r2_score(y_test, y_pred_dt), \n",
    "        r2_score(y_test, y_pred_svm), \n",
    "        r2_score(y_test, y_pred_lr)\n",
    "    ],\n",
    "    \"Explained Variance Score (EVS)\": [\n",
    "        explained_variance_score(y_test, y_pred_dt),\n",
    "        explained_variance_score(y_test, y_pred_svm),\n",
    "        explained_variance_score(y_test, y_pred_lr)\n",
    "    ]\n",
    "}\n",
    "\n",
    "# Convert to DataFrame\n",
    "results_df = pd.DataFrame(results)\n",
    "\n",
    "# Display results\n",
    "print(results_df)\n"
   ]
  },
  {
   "cell_type": "code",
   "execution_count": null,
   "id": "a4b61dbc-03f7-4176-bd25-e959135a6bdf",
   "metadata": {},
   "outputs": [],
   "source": []
  },
  {
   "cell_type": "code",
   "execution_count": null,
   "id": "1eec753a-7308-48d1-a1cb-689bccb48349",
   "metadata": {},
   "outputs": [],
   "source": []
  }
 ],
 "metadata": {
  "kernelspec": {
   "display_name": "Python 3 (ipykernel)",
   "language": "python",
   "name": "python3"
  },
  "language_info": {
   "codemirror_mode": {
    "name": "ipython",
    "version": 3
   },
   "file_extension": ".py",
   "mimetype": "text/x-python",
   "name": "python",
   "nbconvert_exporter": "python",
   "pygments_lexer": "ipython3",
   "version": "3.12.7"
  }
 },
 "nbformat": 4,
 "nbformat_minor": 5
}
